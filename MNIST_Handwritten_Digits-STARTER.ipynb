{
 "cells": [
  {
   "cell_type": "markdown",
   "metadata": {},
   "source": [
    "# Introduction\n",
    "\n",
    "In this project, you will build a neural network of your own design to evaluate the MNIST dataset.\n",
    "\n",
    "Some of the benchmark results on MNIST include can be found [on Yann LeCun's page](https://webcache.googleusercontent.com/search?q=cache:stAVPik6onEJ:yann.lecun.com/exdb/mnist) and include:\n",
    "\n",
    "88% [Lecun et al., 1998](https://hal.science/hal-03926082/document)\n",
    "\n",
    "95.3% [Lecun et al., 1998](https://hal.science/hal-03926082v1/document)\n",
    "\n",
    "99.65% [Ciresan et al., 2011](http://people.idsia.ch/~juergen/ijcai2011.pdf)\n",
    "\n",
    "\n",
    "MNIST is a great dataset for sanity checking your models, since the accuracy levels achieved by large convolutional neural networks and small linear models are both quite high. This makes it important to be familiar with the data.\n",
    "\n",
    "## Installation"
   ]
  },
  {
   "cell_type": "code",
   "execution_count": 1,
   "metadata": {},
   "outputs": [],
   "source": [
    "# Update the PATH to include the user installation directory. \n",
    "import os\n",
    "os.environ['PATH'] = f\"{os.environ['PATH']}:/root/.local/bin\""
   ]
  },
  {
   "cell_type": "markdown",
   "metadata": {},
   "source": [
    "#### Important: Restart the Kernel before you move on to the next step."
   ]
  },
  {
   "cell_type": "code",
   "execution_count": 2,
   "metadata": {},
   "outputs": [
    {
     "name": "stdout",
     "output_type": "stream",
     "text": [
      "Defaulting to user installation because normal site-packages is not writeable\n",
      "Requirement already satisfied: opencv-python-headless in /root/.local/lib/python3.7/site-packages (from -r requirements_2.txt (line 1)) (4.9.0.80)\n",
      "Requirement already satisfied: matplotlib in /opt/conda/lib/python3.7/site-packages (from -r requirements_2.txt (line 2)) (3.4.3)\n",
      "Requirement already satisfied: numpy in /opt/conda/lib/python3.7/site-packages (from -r requirements_2.txt (line 3)) (1.21.2)\n",
      "Requirement already satisfied: pillow in /opt/conda/lib/python3.7/site-packages (from -r requirements_2.txt (line 4)) (7.0.0)\n",
      "Requirement already satisfied: bokeh in /root/.local/lib/python3.7/site-packages (from -r requirements_2.txt (line 5)) (2.4.3)\n",
      "Requirement already satisfied: torch in /opt/conda/lib/python3.7/site-packages (from -r requirements_2.txt (line 6)) (1.11.0)\n",
      "Requirement already satisfied: torchvision in /opt/conda/lib/python3.7/site-packages (from -r requirements_2.txt (line 7)) (0.10.0)\n",
      "Requirement already satisfied: tqdm in /opt/conda/lib/python3.7/site-packages (from -r requirements_2.txt (line 8)) (4.43.0)\n",
      "Requirement already satisfied: ipywidgets in /root/.local/lib/python3.7/site-packages (from -r requirements_2.txt (line 9)) (8.1.1)\n",
      "Requirement already satisfied: livelossplot in /root/.local/lib/python3.7/site-packages (from -r requirements_2.txt (line 10)) (0.5.5)\n",
      "Requirement already satisfied: pytest in /root/.local/lib/python3.7/site-packages (from -r requirements_2.txt (line 11)) (7.4.4)\n",
      "Requirement already satisfied: pandas in /opt/conda/lib/python3.7/site-packages (from -r requirements_2.txt (line 12)) (1.3.3)\n",
      "Requirement already satisfied: seaborn in /opt/conda/lib/python3.7/site-packages (from -r requirements_2.txt (line 13)) (0.10.0)\n",
      "Requirement already satisfied: jupyter in /root/.local/lib/python3.7/site-packages (from -r requirements_2.txt (line 14)) (1.0.0)\n",
      "Requirement already satisfied: ipykernel in /opt/conda/lib/python3.7/site-packages (from -r requirements_2.txt (line 15)) (5.1.4)\n",
      "Requirement already satisfied: cycler>=0.10 in /opt/conda/lib/python3.7/site-packages (from matplotlib->-r requirements_2.txt (line 2)) (0.10.0)\n",
      "Requirement already satisfied: kiwisolver>=1.0.1 in /opt/conda/lib/python3.7/site-packages (from matplotlib->-r requirements_2.txt (line 2)) (1.1.0)\n",
      "Requirement already satisfied: python-dateutil>=2.7 in /opt/conda/lib/python3.7/site-packages (from matplotlib->-r requirements_2.txt (line 2)) (2.8.1)\n",
      "Requirement already satisfied: pyparsing>=2.2.1 in /opt/conda/lib/python3.7/site-packages (from matplotlib->-r requirements_2.txt (line 2)) (2.4.6)\n",
      "Requirement already satisfied: typing-extensions>=3.10.0 in /root/.local/lib/python3.7/site-packages (from bokeh->-r requirements_2.txt (line 5)) (4.7.1)\n",
      "Requirement already satisfied: Jinja2>=2.9 in /opt/conda/lib/python3.7/site-packages (from bokeh->-r requirements_2.txt (line 5)) (2.11.1)\n",
      "Requirement already satisfied: PyYAML>=3.10 in /opt/conda/lib/python3.7/site-packages (from bokeh->-r requirements_2.txt (line 5)) (5.3)\n",
      "Requirement already satisfied: tornado>=5.1 in /opt/conda/lib/python3.7/site-packages (from bokeh->-r requirements_2.txt (line 5)) (5.1.1)\n",
      "Requirement already satisfied: packaging>=16.8 in /opt/conda/lib/python3.7/site-packages (from bokeh->-r requirements_2.txt (line 5)) (20.1)\n",
      "Requirement already satisfied: comm>=0.1.3 in /root/.local/lib/python3.7/site-packages (from ipywidgets->-r requirements_2.txt (line 9)) (0.1.4)\n",
      "Requirement already satisfied: traitlets>=4.3.1 in /opt/conda/lib/python3.7/site-packages (from ipywidgets->-r requirements_2.txt (line 9)) (4.3.3)\n",
      "Requirement already satisfied: widgetsnbextension~=4.0.9 in /root/.local/lib/python3.7/site-packages (from ipywidgets->-r requirements_2.txt (line 9)) (4.0.9)\n",
      "Requirement already satisfied: ipython>=6.1.0 in /opt/conda/lib/python3.7/site-packages (from ipywidgets->-r requirements_2.txt (line 9)) (7.13.0)\n",
      "Requirement already satisfied: jupyterlab-widgets~=3.0.9 in /root/.local/lib/python3.7/site-packages (from ipywidgets->-r requirements_2.txt (line 9)) (3.0.9)\n",
      "Requirement already satisfied: iniconfig in /root/.local/lib/python3.7/site-packages (from pytest->-r requirements_2.txt (line 11)) (2.0.0)\n",
      "Requirement already satisfied: importlib-metadata>=0.12; python_version < \"3.8\" in /opt/conda/lib/python3.7/site-packages (from pytest->-r requirements_2.txt (line 11)) (1.5.0)\n",
      "Requirement already satisfied: tomli>=1.0.0; python_version < \"3.11\" in /root/.local/lib/python3.7/site-packages (from pytest->-r requirements_2.txt (line 11)) (2.0.1)\n",
      "Requirement already satisfied: pluggy<2.0,>=0.12 in /root/.local/lib/python3.7/site-packages (from pytest->-r requirements_2.txt (line 11)) (1.2.0)\n",
      "Requirement already satisfied: exceptiongroup>=1.0.0rc8; python_version < \"3.11\" in /root/.local/lib/python3.7/site-packages (from pytest->-r requirements_2.txt (line 11)) (1.2.0)\n",
      "Requirement already satisfied: pytz>=2017.3 in /opt/conda/lib/python3.7/site-packages (from pandas->-r requirements_2.txt (line 12)) (2019.3)\n",
      "Requirement already satisfied: scipy>=1.0.1 in /opt/conda/lib/python3.7/site-packages (from seaborn->-r requirements_2.txt (line 13)) (1.7.1)\n",
      "Requirement already satisfied: nbconvert in /opt/conda/lib/python3.7/site-packages (from jupyter->-r requirements_2.txt (line 14)) (5.6.1)\n",
      "Requirement already satisfied: notebook in /opt/conda/lib/python3.7/site-packages (from jupyter->-r requirements_2.txt (line 14)) (5.7.4)\n",
      "Requirement already satisfied: qtconsole in /root/.local/lib/python3.7/site-packages (from jupyter->-r requirements_2.txt (line 14)) (5.4.4)\n",
      "Requirement already satisfied: jupyter-console in /root/.local/lib/python3.7/site-packages (from jupyter->-r requirements_2.txt (line 14)) (6.6.3)\n",
      "Requirement already satisfied: jupyter-client in /opt/conda/lib/python3.7/site-packages (from ipykernel->-r requirements_2.txt (line 15)) (6.0.0)\n",
      "Requirement already satisfied: six in /opt/conda/lib/python3.7/site-packages (from cycler>=0.10->matplotlib->-r requirements_2.txt (line 2)) (1.16.0)\n",
      "Requirement already satisfied: setuptools in /opt/conda/lib/python3.7/site-packages (from kiwisolver>=1.0.1->matplotlib->-r requirements_2.txt (line 2)) (45.2.0.post20200209)\n",
      "Requirement already satisfied: MarkupSafe>=0.23 in /opt/conda/lib/python3.7/site-packages (from Jinja2>=2.9->bokeh->-r requirements_2.txt (line 5)) (1.1.1)\n",
      "Requirement already satisfied: decorator in /opt/conda/lib/python3.7/site-packages (from traitlets>=4.3.1->ipywidgets->-r requirements_2.txt (line 9)) (4.4.2)\n",
      "Requirement already satisfied: ipython-genutils in /opt/conda/lib/python3.7/site-packages (from traitlets>=4.3.1->ipywidgets->-r requirements_2.txt (line 9)) (0.2.0)\n",
      "Requirement already satisfied: pickleshare in /opt/conda/lib/python3.7/site-packages (from ipython>=6.1.0->ipywidgets->-r requirements_2.txt (line 9)) (0.7.5)\n",
      "Requirement already satisfied: backcall in /opt/conda/lib/python3.7/site-packages (from ipython>=6.1.0->ipywidgets->-r requirements_2.txt (line 9)) (0.1.0)\n",
      "Requirement already satisfied: jedi>=0.10 in /opt/conda/lib/python3.7/site-packages (from ipython>=6.1.0->ipywidgets->-r requirements_2.txt (line 9)) (0.16.0)\n",
      "Requirement already satisfied: pexpect; sys_platform != \"win32\" in /opt/conda/lib/python3.7/site-packages (from ipython>=6.1.0->ipywidgets->-r requirements_2.txt (line 9)) (4.8.0)\n",
      "Requirement already satisfied: prompt-toolkit!=3.0.0,!=3.0.1,<3.1.0,>=2.0.0 in /opt/conda/lib/python3.7/site-packages (from ipython>=6.1.0->ipywidgets->-r requirements_2.txt (line 9)) (3.0.3)\n",
      "Requirement already satisfied: pygments in /opt/conda/lib/python3.7/site-packages (from ipython>=6.1.0->ipywidgets->-r requirements_2.txt (line 9)) (2.5.2)\n",
      "Requirement already satisfied: zipp>=0.5 in /opt/conda/lib/python3.7/site-packages (from importlib-metadata>=0.12; python_version < \"3.8\"->pytest->-r requirements_2.txt (line 11)) (3.0.0)\n",
      "Requirement already satisfied: bleach in /opt/conda/lib/python3.7/site-packages (from nbconvert->jupyter->-r requirements_2.txt (line 14)) (3.1.1)\n",
      "Requirement already satisfied: nbformat>=4.4 in /opt/conda/lib/python3.7/site-packages (from nbconvert->jupyter->-r requirements_2.txt (line 14)) (5.0.4)\n",
      "Requirement already satisfied: entrypoints>=0.2.2 in /opt/conda/lib/python3.7/site-packages (from nbconvert->jupyter->-r requirements_2.txt (line 14)) (0.3)\n",
      "Requirement already satisfied: jupyter-core in /opt/conda/lib/python3.7/site-packages (from nbconvert->jupyter->-r requirements_2.txt (line 14)) (4.6.3)\n",
      "Requirement already satisfied: pandocfilters>=1.4.1 in /opt/conda/lib/python3.7/site-packages (from nbconvert->jupyter->-r requirements_2.txt (line 14)) (1.4.2)\n",
      "Requirement already satisfied: defusedxml in /opt/conda/lib/python3.7/site-packages (from nbconvert->jupyter->-r requirements_2.txt (line 14)) (0.6.0)\n",
      "Requirement already satisfied: testpath in /opt/conda/lib/python3.7/site-packages (from nbconvert->jupyter->-r requirements_2.txt (line 14)) (0.4.4)\n",
      "Requirement already satisfied: mistune<2,>=0.8.1 in /opt/conda/lib/python3.7/site-packages (from nbconvert->jupyter->-r requirements_2.txt (line 14)) (0.8.4)\n",
      "Requirement already satisfied: Send2Trash in /opt/conda/lib/python3.7/site-packages (from notebook->jupyter->-r requirements_2.txt (line 14)) (1.5.0)\n",
      "Requirement already satisfied: pyzmq>=17 in /opt/conda/lib/python3.7/site-packages (from notebook->jupyter->-r requirements_2.txt (line 14)) (19.0.0)\n",
      "Requirement already satisfied: terminado>=0.8.1 in /opt/conda/lib/python3.7/site-packages (from notebook->jupyter->-r requirements_2.txt (line 14)) (0.8.3)\n"
     ]
    },
    {
     "name": "stdout",
     "output_type": "stream",
     "text": [
      "Requirement already satisfied: prometheus-client in /opt/conda/lib/python3.7/site-packages (from notebook->jupyter->-r requirements_2.txt (line 14)) (0.7.1)\r\n",
      "Requirement already satisfied: qtpy>=2.4.0 in /root/.local/lib/python3.7/site-packages (from qtconsole->jupyter->-r requirements_2.txt (line 14)) (2.4.1)\r\n",
      "Requirement already satisfied: parso>=0.5.2 in /opt/conda/lib/python3.7/site-packages (from jedi>=0.10->ipython>=6.1.0->ipywidgets->-r requirements_2.txt (line 9)) (0.6.1)\r\n",
      "Requirement already satisfied: ptyprocess>=0.5 in /opt/conda/lib/python3.7/site-packages (from pexpect; sys_platform != \"win32\"->ipython>=6.1.0->ipywidgets->-r requirements_2.txt (line 9)) (0.6.0)\r\n",
      "Requirement already satisfied: wcwidth in /opt/conda/lib/python3.7/site-packages (from prompt-toolkit!=3.0.0,!=3.0.1,<3.1.0,>=2.0.0->ipython>=6.1.0->ipywidgets->-r requirements_2.txt (line 9)) (0.1.8)\r\n",
      "Requirement already satisfied: webencodings in /opt/conda/lib/python3.7/site-packages (from bleach->nbconvert->jupyter->-r requirements_2.txt (line 14)) (0.5.1)\r\n",
      "Requirement already satisfied: jsonschema!=2.5.0,>=2.4 in /opt/conda/lib/python3.7/site-packages (from nbformat>=4.4->nbconvert->jupyter->-r requirements_2.txt (line 14)) (3.2.0)\r\n",
      "Requirement already satisfied: pyrsistent>=0.14.0 in /opt/conda/lib/python3.7/site-packages (from jsonschema!=2.5.0,>=2.4->nbformat>=4.4->nbconvert->jupyter->-r requirements_2.txt (line 14)) (0.15.7)\r\n",
      "Requirement already satisfied: attrs>=17.4.0 in /opt/conda/lib/python3.7/site-packages (from jsonschema!=2.5.0,>=2.4->nbformat>=4.4->nbconvert->jupyter->-r requirements_2.txt (line 14)) (19.3.0)\r\n"
     ]
    }
   ],
   "source": [
    "# Install requirements\n",
    "!python -m pip install -r requirements_2.txt"
   ]
  },
  {
   "cell_type": "code",
   "execution_count": 3,
   "metadata": {},
   "outputs": [
    {
     "name": "stdout",
     "output_type": "stream",
     "text": [
      "jupyter core     : 4.6.3\n",
      "jupyter-notebook : 5.7.4\n",
      "qtconsole        : 5.4.4\n",
      "ipython          : 7.13.0\n",
      "ipykernel        : 5.1.4\n",
      "jupyter client   : 6.0.0\n",
      "jupyter lab      : 1.0.9\n",
      "nbconvert        : 5.6.1\n",
      "ipywidgets       : 8.1.1\n",
      "nbformat         : 5.0.4\n",
      "traitlets        : 4.3.3\n"
     ]
    }
   ],
   "source": [
    "!jupyter --version"
   ]
  },
  {
   "cell_type": "markdown",
   "metadata": {},
   "source": [
    "## Imports"
   ]
  },
  {
   "cell_type": "code",
   "execution_count": 4,
   "metadata": {},
   "outputs": [],
   "source": [
    "## This cell contains the essential imports you will need – DO NOT CHANGE THE CONTENTS! ##\n",
    "import torch\n",
    "import torch.nn as nn\n",
    "import torch.nn.functional as F\n",
    "import torch.optim as optim\n",
    "import torchvision\n",
    "import torchvision.transforms as transforms\n",
    "import matplotlib.pyplot as plt\n",
    "import numpy as np\n",
    "from torchvision import datasets\n",
    "from torch.utils.data import DataLoader"
   ]
  },
  {
   "cell_type": "code",
   "execution_count": 5,
   "metadata": {},
   "outputs": [
    {
     "data": {
      "text/plain": [
       "device(type='cuda')"
      ]
     },
     "execution_count": 5,
     "metadata": {},
     "output_type": "execute_result"
    }
   ],
   "source": [
    "device = torch.device('cuda' if torch.cuda.is_available() else 'cpu')\n",
    "device"
   ]
  },
  {
   "cell_type": "markdown",
   "metadata": {},
   "source": [
    "## Load the Dataset\n",
    "\n",
    "Specify your transforms as a list if you intend to .\n",
    "The transforms module is already loaded as `transforms`.\n",
    "\n",
    "MNIST is fortunately included in the torchvision module.\n",
    "Then, you can create your dataset using the `MNIST` object from `torchvision.datasets` ([the documentation is available here](https://pytorch.org/vision/stable/datasets.html#mnist)).\n",
    "Make sure to specify `download=True`! \n",
    "\n",
    "Once your dataset is created, you'll also need to define a `DataLoader` from the `torch.utils.data` module for both the train and the test set."
   ]
  },
  {
   "cell_type": "code",
   "execution_count": 6,
   "metadata": {},
   "outputs": [
    {
     "name": "stderr",
     "output_type": "stream",
     "text": [
      "/opt/conda/lib/python3.7/site-packages/torchvision/datasets/mnist.py:498: UserWarning: The given NumPy array is not writable, and PyTorch does not support non-writable tensors. This means writing to this tensor will result in undefined behavior. You may want to copy the array to protect its data or make it writable before converting it to a tensor. This type of warning will be suppressed for the rest of this program. (Triggered internally at  ../torch/csrc/utils/tensor_numpy.cpp:178.)\n",
      "  return torch.from_numpy(parsed.astype(m[2], copy=False)).view(*s)\n"
     ]
    }
   ],
   "source": [
    "# Define transforms - Data is preprocessed and converted to a tensor, either using the .ToTensor() transform from torchvision.transforms or simply manually with torch.Tensor.\n",
    "transform = transforms.Compose([transforms.ToTensor(), transforms.Normalize((0.5,),(0.5,))]) # 1 channel grayscale not 3 channels\n",
    "\n",
    "# A DataLoader object for both train and test sets is created using the train and test sets loaded from torchvision.\n",
    "\n",
    "# Define train and test data\n",
    "train_data = datasets.MNIST(root=\"data\", train=True, download=True, transform=transform)\n",
    "test_data = datasets.MNIST(root=\"data\", train=False, download=True, transform=transform)\n",
    "\n",
    "# Define train and test loaders\n",
    "train_loader = DataLoader(train_data, batch_size=28, shuffle=True)\n",
    "test_loader = DataLoader(test_data, batch_size=28)"
   ]
  },
  {
   "cell_type": "markdown",
   "metadata": {},
   "source": [
    "## Justify your preprocessing\n",
    "\n",
    "In your own words, why did you choose the transforms you chose? If you didn't use any preprocessing steps, why not?"
   ]
  },
  {
   "cell_type": "markdown",
   "metadata": {},
   "source": [
    "Normalization is a process of scaling the input data to a common range. It is a common practice to normalize the input data before feeding it to a neural network. The primary reason for normalization is to ensure that the input features are on a similar scale, which helps to stabilize the gradient descent step, allowing us to use larger learning rates or help models converge faster for a given learning rate.\n",
    "\n",
    "If the input variables are combined linearly, as in a multilayer perceptron (MLP), then it is rarely strictly necessary to standardize the inputs, at least in theory. However, there are a variety of practical reasons why standardizing the inputs can make training faster and reduce the chances of getting stuck in local optima. Also, weight decay and Bayesian estimation can be done more conveniently with standardized inputs."
   ]
  },
  {
   "cell_type": "markdown",
   "metadata": {},
   "source": [
    "## Explore the Dataset\n",
    "Using matplotlib, numpy, and torch, explore the dimensions of your data.\n",
    "\n",
    "You can view images using the `show5` function defined below – it takes a data loader as an argument.\n",
    "Remember that normalized images will look really weird to you! You may want to try changing your transforms to view images.\n",
    "Typically using no transforms other than `toTensor()` works well for viewing – but not as well for training your network.\n",
    "If `show5` doesn't work, go back and check your code for creating your data loaders and your training/test sets."
   ]
  },
  {
   "cell_type": "code",
   "execution_count": 7,
   "metadata": {},
   "outputs": [],
   "source": [
    "# This cell contains a function for showing 5 images from a dataloader\n",
    "def show5(img_loader):\n",
    "    dataiter = iter(img_loader)\n",
    "    \n",
    "    batch = next(dataiter)\n",
    "    labels = batch[1][0:5]\n",
    "    images = batch[0][0:5]\n",
    "    for i in range(5):\n",
    "        print(int(labels[i].detach()))\n",
    "    \n",
    "        image = images[i].numpy()\n",
    "        plt.imshow(image.T.squeeze().T)\n",
    "        plt.show()"
   ]
  },
  {
   "cell_type": "code",
   "execution_count": 8,
   "metadata": {},
   "outputs": [
    {
     "name": "stdout",
     "output_type": "stream",
     "text": [
      "8\n"
     ]
    },
    {
     "data": {
      "image/png": "[encoded data removed]",
      "text/plain": [
       "<Figure size 432x288 with 1 Axes>"
      ]
     },
     "metadata": {
      "needs_background": "light"
     },
     "output_type": "display_data"
    },
    {
     "name": "stdout",
     "output_type": "stream",
     "text": [
      "3\n"
     ]
    },
    {
     "data": {
      "image/png": "[encoded data removed]",
      "text/plain": [
       "<Figure size 432x288 with 1 Axes>"
      ]
     },
     "metadata": {
      "needs_background": "light"
     },
     "output_type": "display_data"
    },
    {
     "name": "stdout",
     "output_type": "stream",
     "text": [
      "3\n"
     ]
    },
    {
     "data": {
      "image/png": "[encoded data removed]",
      "text/plain": [
       "<Figure size 432x288 with 1 Axes>"
      ]
     },
     "metadata": {
      "needs_background": "light"
     },
     "output_type": "display_data"
    },
    {
     "name": "stdout",
     "output_type": "stream",
     "text": [
      "0\n"
     ]
    },
    {
     "data": {
      "image/png": "[encoded data removed]",
      "text/plain": [
       "<Figure size 432x288 with 1 Axes>"
      ]
     },
     "metadata": {
      "needs_background": "light"
     },
     "output_type": "display_data"
    },
    {
     "name": "stdout",
     "output_type": "stream",
     "text": [
      "7\n"
     ]
    },
    {
     "data": {
      "image/png": "[encoded data removed]",
      "text/plain": [
       "<Figure size 432x288 with 1 Axes>"
      ]
     },
     "metadata": {
      "needs_background": "light"
     },
     "output_type": "display_data"
    },
    {
     "name": "stdout",
     "output_type": "stream",
     "text": [
      "6\n"
     ]
    },
    {
     "data": {
      "image/png": "[encoded data removed]",
      "text/plain": [
       "<Figure size 432x288 with 1 Axes>"
      ]
     },
     "metadata": {
      "needs_background": "light"
     },
     "output_type": "display_data"
    },
    {
     "name": "stdout",
     "output_type": "stream",
     "text": [
      "5\n"
     ]
    },
    {
     "data": {
      "image/png": "[encoded data removed]",
      "text/plain": [
       "<Figure size 432x288 with 1 Axes>"
      ]
     },
     "metadata": {
      "needs_background": "light"
     },
     "output_type": "display_data"
    },
    {
     "name": "stdout",
     "output_type": "stream",
     "text": [
      "1\n"
     ]
    },
    {
     "data": {
      "image/png": "[encoded data removed]",
      "text/plain": [
       "<Figure size 432x288 with 1 Axes>"
      ]
     },
     "metadata": {
      "needs_background": "light"
     },
     "output_type": "display_data"
    },
    {
     "name": "stdout",
     "output_type": "stream",
     "text": [
      "3\n"
     ]
    },
    {
     "data": {
      "image/png": "[encoded data removed]",
      "text/plain": [
       "<Figure size 432x288 with 1 Axes>"
      ]
     },
     "metadata": {
      "needs_background": "light"
     },
     "output_type": "display_data"
    },
    {
     "name": "stdout",
     "output_type": "stream",
     "text": [
      "0\n"
     ]
    },
    {
     "data": {
      "image/png": "[encoded data removed]",
      "text/plain": [
       "<Figure size 432x288 with 1 Axes>"
      ]
     },
     "metadata": {
      "needs_background": "light"
     },
     "output_type": "display_data"
    }
   ],
   "source": [
    "# Explore data - Notebook contains code which shows the size and shape of the training and test data\n",
    "transform_raw = transforms.Compose([transforms.ToTensor()])\n",
    "\n",
    "training_data_raw = datasets.MNIST(root=\"data\", train=True, download=True, transform = transform_raw)\n",
    "train_loader_raw = DataLoader(training_data_raw, batch_size=32, shuffle=True)\n",
    "\n",
    "show5(train_loader_raw)\n",
    "\n",
    "testing_data_raw = datasets.MNIST(root=\"data\", train=True, download=True, transform = transform_raw)\n",
    "test_loader_raw = DataLoader(testing_data_raw, batch_size=32, shuffle=True)\n",
    "\n",
    "show5(test_loader_raw)"
   ]
  },
  {
   "cell_type": "markdown",
   "metadata": {},
   "source": [
    "## Build your Neural Network\n",
    "Using the layers in `torch.nn` (which has been imported as `nn`) and the `torch.nn.functional` module (imported as `F`), construct a neural network based on the parameters of the dataset.\n",
    "Use any architecture you like. \n",
    "\n",
    "*Note*: If you did not flatten your tensors in your transforms or as part of your preprocessing and you are using only `Linear` layers, make sure to use the `Flatten` layer in your network!"
   ]
  },
  {
   "cell_type": "code",
   "execution_count": 9,
   "metadata": {},
   "outputs": [
    {
     "name": "stdout",
     "output_type": "stream",
     "text": [
      "Model's state_dict:\n",
      "fc1.weight \t torch.Size([120, 784])\n",
      "fc1.bias \t torch.Size([120])\n",
      "fc2.weight \t torch.Size([84, 120])\n",
      "fc2.bias \t torch.Size([84])\n",
      "fc3.weight \t torch.Size([10, 84])\n",
      "fc3.bias \t torch.Size([10])\n"
     ]
    }
   ],
   "source": [
    "# Build Model\n",
    "\n",
    "class Net(nn.Module):\n",
    "    def __init__(self):\n",
    "        super().__init__()\n",
    "        # define activation function\n",
    "        self.activation = F.relu\n",
    "        # define dropout\n",
    "        self.dropout = nn.Dropout(p=0.5) # dropout implemented as a layer p is the probablity we set for zeroing out a neuron\n",
    "        # define layers\n",
    "        self.fc1 = nn.Linear(28 * 28 * 1, 120)\n",
    "        self.fc2 = nn.Linear(120, 84)\n",
    "        self.fc3 = nn.Linear(84, 10)\n",
    "\n",
    "    def forward(self, x):\n",
    "        # flatten all dimensions except batch\n",
    "        x = self.dropout(x) # can use wherever we like since no input or output size requirements\n",
    "        x = torch.flatten(x, 1)\n",
    "        # feed forward\n",
    "        x = self.activation(self.fc1(x))\n",
    "        x = self.dropout(x) # can use wherever we like since no input or output size requirements\n",
    "        x = self.activation(self.fc2(x))\n",
    "        x = self.fc3(x)\n",
    "        return x\n",
    "\n",
    "# Instantiate the model\n",
    "net = Net()\n",
    "net.to(device)\n",
    "\n",
    "# Print model's state_dict\n",
    "print(\"Model's state_dict:\")\n",
    "for param_tensor in net.state_dict():\n",
    "    print(param_tensor, \"\\t\", net.state_dict()[param_tensor].size())"
   ]
  },
  {
   "cell_type": "markdown",
   "metadata": {},
   "source": [
    "Flatting Explained:\n",
    "\n",
    "It would be more complicated and less efficient to get the same result without reshaping first, that's why we always do it before a fully connected layer. Because when you're adding a fully connected layer, you always want your data to be a (1 or) 2 dimensional matrix, where each row is the vector representing your data. That way, the fully connected layer is just a matrix multiplicationx = torch.flatten(x, 1). Additionally by defining the layer like this we can efficiently calculate the next step by calculating the formula: f(Wx + b) = y. This would not be as easily possible with multidimensional input and reshaping the input is low cost and easy to accomplish. \n",
    "\n",
    "Flattening is a process of converting the data into a 1-dimensional array for inputting it to the next layer. In some architectures, such as Convolutional Neural Networks (CNN), an image is better processed by a neural network if it is in 1D form rather than 2D. The Flatten layer is a valuable tool in neural network architectures for transitioning from convolutional or spatially structured data to fully connected layers 3. Its advantages include simplicity, compatibility, and dimensionality reduction 3."
   ]
  },
  {
   "cell_type": "markdown",
   "metadata": {},
   "source": [
    "Specify a loss function and an optimizer, and instantiate the model.\n",
    "\n",
    "If you use a less common loss function, please note why you chose that loss function in a comment."
   ]
  },
  {
   "cell_type": "code",
   "execution_count": 10,
   "metadata": {},
   "outputs": [
    {
     "name": "stdout",
     "output_type": "stream",
     "text": [
      "Optimizer's state_dict:\n",
      "state \t {}\n",
      "param_groups \t [{'lr': 0.001, 'betas': (0.9, 0.999), 'eps': 1e-08, 'weight_decay': 0, 'amsgrad': False, 'maximize': False, 'params': [0, 1, 2, 3, 4, 5]}]\n"
     ]
    }
   ],
   "source": [
    "# specify optimizer to minimise the loss function\n",
    "optimizer = optim.Adam(net.parameters(), lr=0.001) # lr is learning rate\n",
    "\n",
    "# could also use SGD e.g. optimizer = optim.SGD(net.parameters(), lr=0.01, momentum=0.9, weight_decay=1e-5)\n",
    "\n",
    "# Print optimizer's state_dict\n",
    "print(\"Optimizer's state_dict:\")\n",
    "for var_name in optimizer.state_dict():\n",
    "    print(var_name, \"\\t\", optimizer.state_dict()[var_name])\n",
    "\n",
    "# specify loss function\n",
    "criterion = nn.CrossEntropyLoss()"
   ]
  },
  {
   "cell_type": "markdown",
   "metadata": {},
   "source": [
    "Why the chosen loss function?\n",
    "\n",
    "The cross-entropy loss function is commonly used for classification tasks. It is a computationally feasible loss function that represents the price paid for inaccuracy of predictions in classification problems. The loss function quantifies the difference between the predicted outputs of a machine learning algorithm and the actual target values. It is intended for use with binary classification where the target values are in the set {0, 1}. Mathematically, it is the preferred loss function under the inference framework of maximum likelihood."
   ]
  },
  {
   "cell_type": "markdown",
   "metadata": {},
   "source": [
    "## Running your Neural Network\n",
    "Use whatever method you like to train your neural network, and ensure you record the average loss at each epoch. \n",
    "Don't forget to use `torch.device()` and the `.to()` method for both your model and your data if you are using GPU!\n",
    "\n",
    "If you want to print your loss **during** each epoch, you can use the `enumerate` function and print the loss after a set number of batches. 250 batches works well for most people!"
   ]
  },
  {
   "cell_type": "code",
   "execution_count": 11,
   "metadata": {},
   "outputs": [],
   "source": [
    "# Train Model Function\n",
    "train_loss_history = list()\n",
    "val_loss_history = list()\n",
    "    \n",
    "def train_model(net, optimizer, criterion, train_loader, num_epochs):\n",
    "    \n",
    "    best_val_loss = float('inf') # sets best val loss to infinity as starting point since monitoring for improvement later\n",
    "    threshold = 0.001 # set threshold for min performence improvement\n",
    "    below_threshold = 0 # sets starting point for how many times fallen below threshold\n",
    "    patience = 2 # sets how many epochs to allow for performance to fall below threshold\n",
    "\n",
    "    for epoch in range(num_epochs):\n",
    "\n",
    "        net.train() # trains model\n",
    "        train_loss = 0.0 # sets startin point of epoch loss to zero\n",
    "        train_correct = 0 # sets number of correct predictions to starting point of zero\n",
    "\n",
    "        for i, data in enumerate(train_loader): # enumerate to keep track of the batches we've iterated over\n",
    "            \n",
    "            inputs, labels = data # to get the inputs and labels within batch, i\n",
    "            inputs, labels = inputs.to(device), labels.to(device) # to cuda or cpu, see start of notebook   \n",
    "            optimizer.zero_grad() # Zeros out the gradients of the optimizer\n",
    "            outputs = net(inputs) # Get the outputs from the model\n",
    "            loss = criterion(outputs, labels) # computes the loss in the context of our criterion\n",
    "            loss.backward() # Compute the gradient of the loss with respect to the parameters using the backward method\n",
    "            optimizer.step() # updates the parameters by taking a step with the optimizer\n",
    "            \n",
    "            _, preds = torch.max(outputs.data, 1) # gets predictions from the outputs, 1 is the axis to look at\n",
    "            train_correct += (preds == labels).sum().item() # update the number of correct training examples\n",
    "            train_loss += loss.item() # update the running loss for the epoch\n",
    "\n",
    "        print(f'Epoch {epoch + 1} training accuracy: {train_correct/len(train_loader):.2f}% training loss: {train_loss/len(train_loader):.5f}')\n",
    "        \n",
    "        train_loss_history.append(train_loss/len(train_loader))\n",
    "\n",
    "        # perform validation\n",
    "        \n",
    "        val_loss = 0.0 # sets validation loss\n",
    "        val_correct = 0\n",
    "        net.eval() # set to eval so we're not computing the gradients of the inputs\n",
    "        \n",
    "        for inputs, labels in train_loader: # or could instead use a 'validation_loader' if using 3 way split, note tutorials used test loader here\n",
    "\n",
    "            inputs, labels = inputs.to(device), labels.to(device) # to cuda or cpu, see start of notebook \n",
    "            outputs = net(inputs) # compute outputs\n",
    "            loss = criterion(outputs, labels) # compute loss\n",
    "            _, preds = torch.max(outputs.data, 1) # compute predictions\n",
    "            val_correct += (preds == labels).sum().item() # calculate number of correct predictions\n",
    "            val_loss += loss.item() # updates the validation loss with the loss for the batch\n",
    "\n",
    "        print(f'Epoch {epoch + 1} validation accuracy: {val_correct/len(train_loader):.2f}% validation loss: {val_loss/len(train_loader):.5f}')\n",
    "        \n",
    "        val_loss_history.append(val_loss/len(train_loader))\n",
    "\n",
    "        diff = best_val_loss - val_loss # calulates the difference between the best val loss and the val loss\n",
    "\n",
    "        # sets the best val loss to the current loss if smaller\n",
    "        if best_val_loss > val_loss:\n",
    "            best_val_loss = val_loss\n",
    "\n",
    "        # if patience exceeded breaks training\n",
    "        if diff <= threshold:\n",
    "            below_threshold += 1\n",
    "            if below_threshold > patience:\n",
    "                break"
   ]
  },
  {
   "cell_type": "code",
   "execution_count": 12,
   "metadata": {},
   "outputs": [
    {
     "name": "stdout",
     "output_type": "stream",
     "text": [
      "Epoch 1 training accuracy: 21.22% training loss: 0.73358\n",
      "Epoch 1 validation accuracy: 25.59% validation loss: 0.28979\n",
      "Epoch 2 training accuracy: 22.98% training loss: 0.55251\n",
      "Epoch 2 validation accuracy: 26.01% validation loss: 0.24411\n",
      "Epoch 3 training accuracy: 23.43% training loss: 0.50400\n",
      "Epoch 3 validation accuracy: 26.15% validation loss: 0.23146\n",
      "Epoch 4 training accuracy: 23.62% training loss: 0.48486\n",
      "Epoch 4 validation accuracy: 26.31% validation loss: 0.21121\n",
      "Epoch 5 training accuracy: 23.77% training loss: 0.47268\n",
      "Epoch 5 validation accuracy: 26.46% validation loss: 0.20218\n",
      "Epoch 6 training accuracy: 23.87% training loss: 0.45788\n",
      "Epoch 6 validation accuracy: 26.57% validation loss: 0.18785\n",
      "Epoch 7 training accuracy: 23.96% training loss: 0.44703\n",
      "Epoch 7 validation accuracy: 26.60% validation loss: 0.18574\n",
      "Epoch 8 training accuracy: 24.02% training loss: 0.44154\n",
      "Epoch 8 validation accuracy: 26.68% validation loss: 0.17125\n",
      "Epoch 9 training accuracy: 24.11% training loss: 0.43254\n",
      "Epoch 9 validation accuracy: 26.72% validation loss: 0.16816\n",
      "Epoch 10 training accuracy: 24.17% training loss: 0.42735\n",
      "Epoch 10 validation accuracy: 26.67% validation loss: 0.17612\n"
     ]
    }
   ],
   "source": [
    "# Train the model\n",
    "train_model(net, optimizer, criterion, train_loader, num_epochs = 10)"
   ]
  },
  {
   "cell_type": "markdown",
   "metadata": {},
   "source": [
    "Plot the training loss (and validation loss/accuracy, if recorded)."
   ]
  },
  {
   "cell_type": "code",
   "execution_count": 13,
   "metadata": {},
   "outputs": [
    {
     "data": {
      "image/png": "[encoded data removed]",
      "text/plain": [
       "<Figure size 432x288 with 1 Axes>"
      ]
     },
     "metadata": {
      "needs_background": "light"
     },
     "output_type": "display_data"
    }
   ],
   "source": [
    "plt.plot(train_loss_history, label=\"Training Loss\")\n",
    "plt.plot(val_loss_history, label=\"Validation Loss\")\n",
    "plt.legend()\n",
    "plt.show()"
   ]
  },
  {
   "cell_type": "markdown",
   "metadata": {},
   "source": [
    "## Testing your model\n",
    "Using the previously created `DataLoader` for the test set, compute the percentage of correct predictions using the highest probability prediction. \n",
    "\n",
    "If your accuracy is over 90%, great work, but see if you can push a bit further! \n",
    "If your accuracy is under 90%, you'll need to make improvements.\n",
    "Go back and check your model architecture, loss function, and optimizer to make sure they're appropriate for an image classification task."
   ]
  },
  {
   "cell_type": "code",
   "execution_count": 14,
   "metadata": {},
   "outputs": [
    {
     "name": "stdout",
     "output_type": "stream",
     "text": [
      "Epoch 1 test accuracy: 26.60% validation loss: 0.17520\n",
      "Epoch 2 test accuracy: 26.60% validation loss: 0.17520\n",
      "Epoch 3 test accuracy: 26.60% validation loss: 0.17520\n",
      "Epoch 4 test accuracy: 26.60% validation loss: 0.17520\n",
      "Epoch 5 test accuracy: 26.60% validation loss: 0.17520\n",
      "Epoch 6 test accuracy: 26.60% validation loss: 0.17520\n",
      "Epoch 7 test accuracy: 26.60% validation loss: 0.17520\n",
      "Epoch 8 test accuracy: 26.60% validation loss: 0.17520\n",
      "Epoch 9 test accuracy: 26.60% validation loss: 0.17520\n",
      "Epoch 10 test accuracy: 26.60% validation loss: 0.17520\n"
     ]
    },
    {
     "data": {
      "image/png": "[encoded data removed]",
      "text/plain": [
       "<Figure size 432x288 with 1 Axes>"
      ]
     },
     "metadata": {
      "needs_background": "light"
     },
     "output_type": "display_data"
    }
   ],
   "source": [
    "# perform test\n",
    "\n",
    "num_epochs = 10\n",
    "\n",
    "for epoch in range(num_epochs):\n",
    "\n",
    "    test_loss = 0.0 # sets validation loss\n",
    "    test_correct = 0\n",
    "    net.eval()\n",
    "    test_loss_history = list()\n",
    "\n",
    "    for inputs, labels in test_loader:\n",
    "\n",
    "        inputs, labels = inputs.to(device), labels.to(device) # to cuda or cpu, see start of notebook \n",
    "        outputs = net(inputs) # compute outputs\n",
    "        loss = criterion(outputs, labels) # compute loss\n",
    "        _, preds = torch.max(outputs.data, 1) # compute predictions\n",
    "        test_correct += (preds == labels).sum().item() # calculate number of correct predictions\n",
    "        test_loss += loss.item() # updates the validation loss with the loss for the batch\n",
    "\n",
    "    print(f'Epoch {epoch + 1} test accuracy: {test_correct/len(test_loader):.2f}% validation loss: {test_loss/len(test_loader):.5f}')\n",
    "\n",
    "    test_loss_history.append(test_loss/len(test_loader))\n",
    "\n",
    "plt.plot(test_loss_history, label=\"Testing Loss\")\n",
    "plt.legend()\n",
    "plt.show()"
   ]
  },
  {
   "cell_type": "markdown",
   "metadata": {},
   "source": [
    "## Improving your model\n",
    "\n",
    "Once your model is done training, try tweaking your hyperparameters and training again below to improve your accuracy on the test set!"
   ]
  },
  {
   "cell_type": "code",
   "execution_count": 15,
   "metadata": {},
   "outputs": [
    {
     "name": "stdout",
     "output_type": "stream",
     "text": [
      "Optimizer's state_dict:\n",
      "state \t {}\n",
      "param_groups \t [{'lr': 0.01, 'momentum': 0.9, 'dampening': 0, 'weight_decay': 1e-05, 'nesterov': False, 'maximize': False, 'params': [0, 1, 2, 3, 4, 5]}]\n",
      "Epoch 1 training accuracy: 23.39% training loss: 0.54257\n",
      "Epoch 1 validation accuracy: 26.43% validation loss: 0.20357\n",
      "Epoch 2 training accuracy: 23.52% training loss: 0.53316\n",
      "Epoch 2 validation accuracy: 26.15% validation loss: 0.24165\n",
      "Epoch 3 training accuracy: 23.63% training loss: 0.52478\n",
      "Epoch 3 validation accuracy: 26.33% validation loss: 0.23002\n",
      "Epoch 4 training accuracy: 23.61% training loss: 0.52350\n",
      "Epoch 4 validation accuracy: 26.50% validation loss: 0.21574\n"
     ]
    }
   ],
   "source": [
    "## YOUR CODE HERE ##\n",
    "optimizer = optim.SGD(net.parameters(), lr=0.01, momentum=0.9, weight_decay=1e-5)\n",
    "\n",
    "# Print optimizer's state_dict\n",
    "print(\"Optimizer's state_dict:\")\n",
    "for var_name in optimizer.state_dict():\n",
    "    print(var_name, \"\\t\", optimizer.state_dict()[var_name])\n",
    "\n",
    "# specify loss function\n",
    "criterion = nn.CrossEntropyLoss()\n",
    "\n",
    "train_model(net, optimizer, criterion, train_loader, num_epochs = 10)"
   ]
  },
  {
   "cell_type": "markdown",
   "metadata": {},
   "source": [
    "## Saving your model\n",
    "Using `torch.save`, save your model for future loading."
   ]
  },
  {
   "cell_type": "code",
   "execution_count": 16,
   "metadata": {},
   "outputs": [
    {
     "data": {
      "text/plain": [
       "<function torch.serialization.save(obj, f: Union[str, os.PathLike, BinaryIO, IO[bytes]], pickle_module=<module 'pickle' from '/opt/conda/lib/python3.7/pickle.py'>, pickle_protocol=2, _use_new_zipfile_serialization=True) -> None>"
      ]
     },
     "execution_count": 16,
     "metadata": {},
     "output_type": "execute_result"
    }
   ],
   "source": [
    "torch.save"
   ]
  }
 ],
 "metadata": {
  "kernelspec": {
   "display_name": "Python 3",
   "language": "python",
   "name": "python3"
  },
  "language_info": {
   "codemirror_mode": {
    "name": "ipython",
    "version": 3
   },
   "file_extension": ".py",
   "mimetype": "text/x-python",
   "name": "python",
   "nbconvert_exporter": "python",
   "pygments_lexer": "ipython3",
   "version": "3.7.6"
  }
 },
 "nbformat": 4,
 "nbformat_minor": 4
}
